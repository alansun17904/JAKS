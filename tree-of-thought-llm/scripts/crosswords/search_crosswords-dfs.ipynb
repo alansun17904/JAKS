{
 "cells": [
  {
   "attachments": {},
   "cell_type": "markdown",
   "metadata": {},
   "source": [
    "# Env"
   ]
  },
  {
   "cell_type": "code",
   "metadata": {
    "ExecuteTime": {
     "end_time": "2025-08-07T10:16:11.146809Z",
     "start_time": "2025-08-07T10:16:11.144429Z"
    }
   },
   "source": [
    "from tot.methods.bfs import json_thought\n",
    "\n",
    "cd .."
   ],
   "outputs": [
    {
     "ename": "SyntaxError",
     "evalue": "invalid syntax (4147796982.py, line 3)",
     "output_type": "error",
     "traceback": [
      "  \u001B[36mCell\u001B[39m\u001B[36m \u001B[39m\u001B[32mIn[2]\u001B[39m\u001B[32m, line 3\u001B[39m\n\u001B[31m    \u001B[39m\u001B[31mcd ..\u001B[39m\n        ^\n\u001B[31mSyntaxError\u001B[39m\u001B[31m:\u001B[39m invalid syntax\n"
     ]
    }
   ],
   "execution_count": 2
  },
  {
   "cell_type": "code",
   "metadata": {
    "ExecuteTime": {
     "end_time": "2025-08-07T10:16:15.925514Z",
     "start_time": "2025-08-07T10:16:12.700400Z"
    }
   },
   "source": [
    "import json\n",
    "from tot.prompts.crosswords import propose_prompt, value_prompt\n",
    "from tot.models import gpt\n",
    "from tot.tasks.crosswords import MiniCrosswordsEnv\n",
    "\n",
    "env = MiniCrosswordsEnv()"
   ],
   "outputs": [
    {
     "name": "stderr",
     "output_type": "stream",
     "text": [
      "/Users/jona_allwin/developer/algoverse/alan_jaks/JAKS/tree-of-thought-llm/env/lib/python3.11/site-packages/tqdm/auto.py:21: TqdmWarning: IProgress not found. Please update jupyter and ipywidgets. See https://ipywidgets.readthedocs.io/en/stable/user_install.html\n",
      "  from .autonotebook import tqdm as notebook_tqdm\n"
     ]
    },
    {
     "name": "stdout",
     "output_type": "stream",
     "text": [
      "Warning: OPENAI_API_KEY is not set\n"
     ]
    }
   ],
   "execution_count": 3
  },
  {
   "attachments": {},
   "cell_type": "markdown",
   "metadata": {},
   "source": [
    "# Prompt"
   ]
  },
  {
   "cell_type": "code",
   "metadata": {
    "ExecuteTime": {
     "end_time": "2025-08-07T10:16:19.667664Z",
     "start_time": "2025-08-07T10:16:19.665056Z"
    }
   },
   "source": [
    "def prompt_wrap(obs):\n",
    "    return propose_prompt.format(input=obs)\n",
    "\n",
    "print(prompt_wrap(env.reset(0)))\n",
    "# print('---------')\n",
    "# print(prompt_wrap(env.step('h2. value')[0]))"
   ],
   "outputs": [
    {
     "name": "stdout",
     "output_type": "stream",
     "text": [
      "Let's play a 5 x 5 mini crossword, where each word should have exactly 5 letters.\n",
      "\n",
      "Current Board:\n",
      "_____\n",
      "_____\n",
      "_____\n",
      "_____\n",
      "_____\n",
      "\n",
      "Unfilled:\n",
      "h1. An agendum; something to be done: _____\n",
      "h2. An engine: _____\n",
      "h3. Pretentious; flowery: _____\n",
      "h4. A salon; a hall: _____\n",
      "h5. To mock; to sneer: _____\n",
      "v1. To heap: _____\n",
      "v2. An Indian antelope: _____\n",
      "v3. To intend; to plan; to devise; a nettle; to guess: _____\n",
      "v4. A nozzle: _____\n",
      "v5. Desiccator; more dry: _____\n",
      "\n",
      "Filled:\n",
      "\n",
      "Changed:\n",
      "\n",
      "\n",
      "Given the current status, list all possible answers for unfilled or changed words, and your confidence levels (certain/high/medium/low), using the format \"h1. apple (medium)\". Use \"certain\" cautiously and only when you are 100% sure this is the correct word. You can list more then one possible answer for each word.\n",
      "\n"
     ]
    }
   ],
   "execution_count": 4
  },
  {
   "cell_type": "code",
   "metadata": {
    "ExecuteTime": {
     "end_time": "2025-08-07T10:16:21.626323Z",
     "start_time": "2025-08-07T10:16:21.619084Z"
    }
   },
   "source": [
    "import re\n",
    "import copy\n",
    "from tot.models import gpt\n",
    "\n",
    "def parse_line(input_str):\n",
    "    # regular expression pattern to match the input string format\n",
    "    pattern = r'^([hv][1-5])\\. ([a-zA-Z]{5,5}) \\((certain|high|medium|low)\\).*$'\n",
    "\n",
    "    # use regex to extract the parts of the input string\n",
    "    match = re.match(pattern, input_str)\n",
    "\n",
    "    if match:\n",
    "        # extract the matched groups\n",
    "        parts = [match.group(1), match.group(2), match.group(3)]\n",
    "        return parts\n",
    "    else:\n",
    "        return None\n",
    "\n",
    "confidence_to_value = {'certain': 1, 'high': 0.5, 'medium': 0.2, 'low': 0.1}  # TODO: ad hoc\n",
    "\n",
    "def parse_response(response):\n",
    "    # split the response into lines\n",
    "    lines = response.split('\\n')\n",
    "\n",
    "    # parse each line\n",
    "    parsed_lines = [parse_line(line) for line in lines]\n",
    "\n",
    "    # filter out the lines that didn't match the format\n",
    "    parsed_lines = [(line[0].lower() + '. ' + line[1].lower(), confidence_to_value.get(line[2], 0)) for line in parsed_lines if line is not None]\n",
    "\n",
    "    return parsed_lines if len(parsed_lines) >= 1 else None\n",
    "\n",
    "\n",
    "def get_candidates_to_scores(env):\n",
    "    obs = env.render()\n",
    "    if obs in env.cache: \n",
    "        print('cache hit')\n",
    "        return env.cache[obs]\n",
    "    print('call gpt')\n",
    "    responses = gpt(prompt_wrap(obs), model='gpt2', n=8, json=None)\n",
    "    candidates_to_scores = {}\n",
    "    for response in responses:\n",
    "        parsed_response = parse_response(response)\n",
    "        if parsed_response:\n",
    "            for candidate, score in parsed_response:\n",
    "                candidates_to_scores[candidate] = candidates_to_scores.get(candidate, 0) + score\n",
    "        # choose candiate with highest score\n",
    "    # print(sorted(candidates_to_scores.items(), key=lambda x: x[1], reverse=True))\n",
    "    env.cache[obs] = candidates_to_scores\n",
    "    return candidates_to_scores\n",
    "\n",
    "def propose_score(env, idx):\n",
    "    obs = env.reset(idx)\n",
    "    done = False\n",
    "    infos = []\n",
    "    while not done:\n",
    "        responses = gpt(prompt_wrap(obs), model='gpt2', n=5)\n",
    "        candidates_to_scores = {}\n",
    "        for response in responses:\n",
    "            parsed_response = parse_response(response)\n",
    "            if parsed_response:\n",
    "                for candidate, score in parsed_response:\n",
    "                    candidates_to_scores[candidate] = candidates_to_scores.get(candidate, 0) + score\n",
    "        # choose candiate with highest score\n",
    "        print(sorted(candidates_to_scores.items(), key=lambda x: x[1], reverse=True))\n",
    "        if len(candidates_to_scores) == 0:\n",
    "            break\n",
    "        candidates =  sorted(candidates_to_scores, key=candidates_to_scores.get, reverse=True)\n",
    "        for candidate in candidates:\n",
    "            env_ = copy.deepcopy(env)\n",
    "            env_.step(candidate)\n",
    "            if not any(_ == 2 for _ in env_.status):\n",
    "                break\n",
    "        print(candidate)\n",
    "        # candidate = input()\n",
    "        obs, r, done, info = env.step(candidate)\n",
    "        print(obs)\n",
    "        print(env.steps, info)\n",
    "        print('-------------------\\n\\n\\n')\n",
    "        infos.append(info)\n",
    "    return infos"
   ],
   "outputs": [],
   "execution_count": 5
  },
  {
   "attachments": {},
   "cell_type": "markdown",
   "metadata": {},
   "source": [
    "# DFS"
   ]
  },
  {
   "cell_type": "code",
   "metadata": {
    "ExecuteTime": {
     "end_time": "2025-08-07T10:16:26.757824Z",
     "start_time": "2025-08-07T10:16:26.753107Z"
    }
   },
   "source": [
    "def dfs(env, actions, infos, time_limit, prune, max_per_state):\n",
    "    # get candidate thoughts\n",
    "    json_thought = {}\n",
    "    x = \"1\"\n",
    "    json_thought[str(x)] = { \"step\" : \"\",\n",
    "                             \"Prompt\" : \"\",\n",
    "                             \"raw_output_prop\": [],\n",
    "                             \"raw_output_eval\": [],\n",
    "                             \"thought_variation\" : {\"\" : []}}\n",
    "    \n",
    "    \n",
    "    \n",
    "    candidates_to_scores = get_candidates_to_scores(env)\n",
    "    if len(candidates_to_scores) == 0: return 0, [], []\n",
    "    print(sorted(candidates_to_scores.items(), key=lambda x: x[1], reverse=True))\n",
    "\n",
    "    # back up current state\n",
    "    board, status, steps = env.board.copy(), env.status.copy(), env.steps\n",
    "\n",
    "    # try each candidate\n",
    "    cnt_per_state = 0\n",
    "    for action in sorted(candidates_to_scores, key=candidates_to_scores.get, reverse=True):\n",
    "        obs, r, done, info = env.step(action)\n",
    "        r = info['r_word']\n",
    "        if len(infos) < time_limit and env.steps < 10 and not any(_ == 2 for _ in env.status):  # not violating any existing constraints\n",
    "            cnt_per_state += 1\n",
    "            if cnt_per_state > max_per_state: break\n",
    "            count = env.prompt_status()       \n",
    "            actions.append(action)  \n",
    "\n",
    "            print(len(infos))\n",
    "            print(actions)\n",
    "            print(env.render_board())\n",
    "            print(info)\n",
    "            print(count)\n",
    "            if infos:\n",
    "                best = max(infos, key=lambda x: x['info']['r_word'])\n",
    "                print('best', best)\n",
    "            print('--------------')\n",
    "            print()\n",
    "\n",
    "            info = {'total_step': len(infos), 'env_step': env.steps, 'actions': actions.copy(), 'info': info, 'count': count}\n",
    "            infos.append(info)\n",
    "            if not prune or count['impossible'] < 1:  # only continue if the current status is possible\n",
    "                dfs(env, actions, infos, time_limit, prune, max_per_state)\n",
    "            actions.pop()\n",
    "        env.reset(env.idx, board=board.copy(), status=status.copy(), steps=steps)"
   ],
   "outputs": [],
   "execution_count": 6
  },
  {
   "cell_type": "code",
   "metadata": {
    "ExecuteTime": {
     "end_time": "2025-08-07T10:16:47.656023Z",
     "start_time": "2025-08-07T10:16:29.914071Z"
    }
   },
   "source": [
    "# dfs with pruning\n",
    "infoss = []\n",
    "for i in range(0, 100, 5):\n",
    "    env.reset(i)\n",
    "    infos = []\n",
    "    actions = []\n",
    "    dfs(env, actions, infos, 100, prune=True, max_per_state=3)\n",
    "    infoss.append(infos)\n",
    "    with open('logs/crosswords/infoss_dfs_prune.json', 'w') as fout:\n",
    "        json.dump(infoss, fout)"
   ],
   "outputs": [
    {
     "name": "stdout",
     "output_type": "stream",
     "text": [
      "call gpt\n",
      "gpt2\n",
      "To debug: Using MPS\n",
      "Loaded pretrained model gpt2 into HookedTransformer\n"
     ]
    },
    {
     "name": "stderr",
     "output_type": "stream",
     "text": [
      "huggingface/tokenizers: The current process just got forked, after parallelism has already been used. Disabling parallelism to avoid deadlocks...\n",
      "To disable this warning, you can either:\n",
      "\t- Avoid using `tokenizers` before the fork if possible\n",
      "\t- Explicitly set the environment variable TOKENIZERS_PARALLELISM=(true | false)\n",
      "100%|██████████| 50/50 [00:02<00:00, 18.09it/s]\n"
     ]
    },
    {
     "name": "stdout",
     "output_type": "stream",
     "text": [
      "Let's play a 5 x 5 mini crossword, where each word should have exactly 5 letters.\n",
      "\n",
      "Current Board:\n",
      "_____\n",
      "_____\n",
      "_____\n",
      "_____\n",
      "_____\n",
      "\n",
      "Unfilled:\n",
      "h1. An agendum; something to be done: _____\n",
      "h2. An engine: _____\n",
      "h3. Pretentious; flowery: _____\n",
      "h4. A salon; a hall: _____\n",
      "h5. To mock; to sneer: _____\n",
      "v1. To heap: _____\n",
      "v2. An Indian antelope: _____\n",
      "v3. To intend; to plan; to devise; a nettle; to guess: _____\n",
      "v4. A nozzle: _____\n",
      "v5. Desiccator; more dry: _____\n",
      "\n",
      "Filled:\n",
      "\n",
      "Changed:\n",
      "\n",
      "\n",
      "Given the current status, list all possible answers for unfilled or changed words, and your confidence levels (certain/high/medium/low), using the format \"h1. apple (medium)\". Use \"certain\" cautiously and only when you are 100% sure this is the correct word. You can list more then one possible answer for each word.\n",
      "\n",
      "First, remember that the word from question 1 is not the same as the word from question 2. If you cannot answer the word from question 1 than you will have to figure out what word is the correct one. This is especially true when there\n"
     ]
    },
    {
     "name": "stderr",
     "output_type": "stream",
     "text": [
      "100%|██████████| 50/50 [00:01<00:00, 27.36it/s]\n"
     ]
    },
    {
     "name": "stdout",
     "output_type": "stream",
     "text": [
      "Let's play a 5 x 5 mini crossword, where each word should have exactly 5 letters.\n",
      "\n",
      "Current Board:\n",
      "_____\n",
      "_____\n",
      "_____\n",
      "_____\n",
      "_____\n",
      "\n",
      "Unfilled:\n",
      "h1. An agendum; something to be done: _____\n",
      "h2. An engine: _____\n",
      "h3. Pretentious; flowery: _____\n",
      "h4. A salon; a hall: _____\n",
      "h5. To mock; to sneer: _____\n",
      "v1. To heap: _____\n",
      "v2. An Indian antelope: _____\n",
      "v3. To intend; to plan; to devise; a nettle; to guess: _____\n",
      "v4. A nozzle: _____\n",
      "v5. Desiccator; more dry: _____\n",
      "\n",
      "Filled:\n",
      "\n",
      "Changed:\n",
      "\n",
      "\n",
      "Given the current status, list all possible answers for unfilled or changed words, and your confidence levels (certain/high/medium/low), using the format \"h1. apple (medium)\". Use \"certain\" cautiously and only when you are 100% sure this is the correct word. You can list more then one possible answer for each word.\n",
      "\n",
      "First, you'll need to find a place where you have at least 5 words with the correct form (i.e., word 1 and word 2 are considered empty). Then, you need to go to a specific page with the correct form.\n"
     ]
    },
    {
     "name": "stderr",
     "output_type": "stream",
     "text": [
      "100%|██████████| 50/50 [00:01<00:00, 29.76it/s]\n"
     ]
    },
    {
     "name": "stdout",
     "output_type": "stream",
     "text": [
      "Let's play a 5 x 5 mini crossword, where each word should have exactly 5 letters.\n",
      "\n",
      "Current Board:\n",
      "_____\n",
      "_____\n",
      "_____\n",
      "_____\n",
      "_____\n",
      "\n",
      "Unfilled:\n",
      "h1. An agendum; something to be done: _____\n",
      "h2. An engine: _____\n",
      "h3. Pretentious; flowery: _____\n",
      "h4. A salon; a hall: _____\n",
      "h5. To mock; to sneer: _____\n",
      "v1. To heap: _____\n",
      "v2. An Indian antelope: _____\n",
      "v3. To intend; to plan; to devise; a nettle; to guess: _____\n",
      "v4. A nozzle: _____\n",
      "v5. Desiccator; more dry: _____\n",
      "\n",
      "Filled:\n",
      "\n",
      "Changed:\n",
      "\n",
      "\n",
      "Given the current status, list all possible answers for unfilled or changed words, and your confidence levels (certain/high/medium/low), using the format \"h1. apple (medium)\". Use \"certain\" cautiously and only when you are 100% sure this is the correct word. You can list more then one possible answer for each word.\n",
      "\n",
      "Let's play a 5 x 5 mini crossword, where each word should have exactly 5 letters.\n",
      "\n",
      "Current Board:\n",
      "\n",
      "_____\n",
      "\n",
      "_____\n",
      "\n",
      "_____\n",
      "\n",
      "_____\n",
      "\n",
      "Unfilled:h1. An agendum;\n"
     ]
    },
    {
     "name": "stderr",
     "output_type": "stream",
     "text": [
      "100%|██████████| 50/50 [00:01<00:00, 28.44it/s]\n"
     ]
    },
    {
     "name": "stdout",
     "output_type": "stream",
     "text": [
      "Let's play a 5 x 5 mini crossword, where each word should have exactly 5 letters.\n",
      "\n",
      "Current Board:\n",
      "_____\n",
      "_____\n",
      "_____\n",
      "_____\n",
      "_____\n",
      "\n",
      "Unfilled:\n",
      "h1. An agendum; something to be done: _____\n",
      "h2. An engine: _____\n",
      "h3. Pretentious; flowery: _____\n",
      "h4. A salon; a hall: _____\n",
      "h5. To mock; to sneer: _____\n",
      "v1. To heap: _____\n",
      "v2. An Indian antelope: _____\n",
      "v3. To intend; to plan; to devise; a nettle; to guess: _____\n",
      "v4. A nozzle: _____\n",
      "v5. Desiccator; more dry: _____\n",
      "\n",
      "Filled:\n",
      "\n",
      "Changed:\n",
      "\n",
      "\n",
      "Given the current status, list all possible answers for unfilled or changed words, and your confidence levels (certain/high/medium/low), using the format \"h1. apple (medium)\". Use \"certain\" cautiously and only when you are 100% sure this is the correct word. You can list more then one possible answer for each word.\n",
      "\n",
      "(Note: A new word is \"unfilled\" if you have more than 50% or so of the list for that word. The list will be updated every 5 minutes.)\n",
      "\n",
      "(Note: You can also fill more then a list\n"
     ]
    },
    {
     "name": "stderr",
     "output_type": "stream",
     "text": [
      "100%|██████████| 50/50 [00:01<00:00, 29.02it/s]\n"
     ]
    },
    {
     "name": "stdout",
     "output_type": "stream",
     "text": [
      "Let's play a 5 x 5 mini crossword, where each word should have exactly 5 letters.\n",
      "\n",
      "Current Board:\n",
      "_____\n",
      "_____\n",
      "_____\n",
      "_____\n",
      "_____\n",
      "\n",
      "Unfilled:\n",
      "h1. An agendum; something to be done: _____\n",
      "h2. An engine: _____\n",
      "h3. Pretentious; flowery: _____\n",
      "h4. A salon; a hall: _____\n",
      "h5. To mock; to sneer: _____\n",
      "v1. To heap: _____\n",
      "v2. An Indian antelope: _____\n",
      "v3. To intend; to plan; to devise; a nettle; to guess: _____\n",
      "v4. A nozzle: _____\n",
      "v5. Desiccator; more dry: _____\n",
      "\n",
      "Filled:\n",
      "\n",
      "Changed:\n",
      "\n",
      "\n",
      "Given the current status, list all possible answers for unfilled or changed words, and your confidence levels (certain/high/medium/low), using the format \"h1. apple (medium)\". Use \"certain\" cautiously and only when you are 100% sure this is the correct word. You can list more then one possible answer for each word.\n",
      "\n",
      "Use \"h1. apple (medium)\" as the first word of your answer, and then use the \"h2. apple (medium)\" to list the remainder of your answers.\n",
      "\n",
      "Use \"h1. apple (medium\n"
     ]
    },
    {
     "name": "stderr",
     "output_type": "stream",
     "text": [
      "100%|██████████| 50/50 [00:01<00:00, 29.10it/s]\n"
     ]
    },
    {
     "name": "stdout",
     "output_type": "stream",
     "text": [
      "Let's play a 5 x 5 mini crossword, where each word should have exactly 5 letters.\n",
      "\n",
      "Current Board:\n",
      "_____\n",
      "_____\n",
      "_____\n",
      "_____\n",
      "_____\n",
      "\n",
      "Unfilled:\n",
      "h1. An agendum; something to be done: _____\n",
      "h2. An engine: _____\n",
      "h3. Pretentious; flowery: _____\n",
      "h4. A salon; a hall: _____\n",
      "h5. To mock; to sneer: _____\n",
      "v1. To heap: _____\n",
      "v2. An Indian antelope: _____\n",
      "v3. To intend; to plan; to devise; a nettle; to guess: _____\n",
      "v4. A nozzle: _____\n",
      "v5. Desiccator; more dry: _____\n",
      "\n",
      "Filled:\n",
      "\n",
      "Changed:\n",
      "\n",
      "\n",
      "Given the current status, list all possible answers for unfilled or changed words, and your confidence levels (certain/high/medium/low), using the format \"h1. apple (medium)\". Use \"certain\" cautiously and only when you are 100% sure this is the correct word. You can list more then one possible answer for each word.\n",
      "\n",
      "The above process will also give you a list of the first 5 letters of your word.\n",
      "\n",
      "You can find out how you can use \"h1\" in real life, and how to use it in a game of poker.\n",
      "\n",
      "\n"
     ]
    },
    {
     "name": "stderr",
     "output_type": "stream",
     "text": [
      "100%|██████████| 50/50 [00:01<00:00, 29.30it/s]\n"
     ]
    },
    {
     "name": "stdout",
     "output_type": "stream",
     "text": [
      "Let's play a 5 x 5 mini crossword, where each word should have exactly 5 letters.\n",
      "\n",
      "Current Board:\n",
      "_____\n",
      "_____\n",
      "_____\n",
      "_____\n",
      "_____\n",
      "\n",
      "Unfilled:\n",
      "h1. An agendum; something to be done: _____\n",
      "h2. An engine: _____\n",
      "h3. Pretentious; flowery: _____\n",
      "h4. A salon; a hall: _____\n",
      "h5. To mock; to sneer: _____\n",
      "v1. To heap: _____\n",
      "v2. An Indian antelope: _____\n",
      "v3. To intend; to plan; to devise; a nettle; to guess: _____\n",
      "v4. A nozzle: _____\n",
      "v5. Desiccator; more dry: _____\n",
      "\n",
      "Filled:\n",
      "\n",
      "Changed:\n",
      "\n",
      "\n",
      "Given the current status, list all possible answers for unfilled or changed words, and your confidence levels (certain/high/medium/low), using the format \"h1. apple (medium)\". Use \"certain\" cautiously and only when you are 100% sure this is the correct word. You can list more then one possible answer for each word.\n",
      "\n",
      "If you are not 100% sure, use \"h4. A horse: _____\n",
      "\n",
      "h5. A dog: _____\n",
      "\n",
      "f1. A book: _____\n",
      "\n",
      "f2. A bookstore: _____\n"
     ]
    },
    {
     "name": "stderr",
     "output_type": "stream",
     "text": [
      "100%|██████████| 50/50 [00:01<00:00, 26.16it/s]"
     ]
    },
    {
     "name": "stdout",
     "output_type": "stream",
     "text": [
      "Let's play a 5 x 5 mini crossword, where each word should have exactly 5 letters.\n",
      "\n",
      "Current Board:\n",
      "_____\n",
      "_____\n",
      "_____\n",
      "_____\n",
      "_____\n",
      "\n",
      "Unfilled:\n",
      "h1. An agendum; something to be done: _____\n",
      "h2. An engine: _____\n",
      "h3. Pretentious; flowery: _____\n",
      "h4. A salon; a hall: _____\n",
      "h5. To mock; to sneer: _____\n",
      "v1. To heap: _____\n",
      "v2. An Indian antelope: _____\n",
      "v3. To intend; to plan; to devise; a nettle; to guess: _____\n",
      "v4. A nozzle: _____\n",
      "v5. Desiccator; more dry: _____\n",
      "\n",
      "Filled:\n",
      "\n",
      "Changed:\n",
      "\n",
      "\n",
      "Given the current status, list all possible answers for unfilled or changed words, and your confidence levels (certain/high/medium/low), using the format \"h1. apple (medium)\". Use \"certain\" cautiously and only when you are 100% sure this is the correct word. You can list more then one possible answer for each word.\n",
      "\n",
      "When using this, you must be sure to use a very good index (e.g., \"I can't remember how to write this\" or \"I can't remember how to write this.\") and you should see a green box with a\n"
     ]
    },
    {
     "name": "stderr",
     "output_type": "stream",
     "text": [
      "\n"
     ]
    },
    {
     "ename": "FileNotFoundError",
     "evalue": "[Errno 2] No such file or directory: 'logs/crosswords/infoss_dfs_prune.json'",
     "output_type": "error",
     "traceback": [
      "\u001B[31m---------------------------------------------------------------------------\u001B[39m",
      "\u001B[31mFileNotFoundError\u001B[39m                         Traceback (most recent call last)",
      "\u001B[36mCell\u001B[39m\u001B[36m \u001B[39m\u001B[32mIn[7]\u001B[39m\u001B[32m, line 9\u001B[39m\n\u001B[32m      7\u001B[39m dfs(env, actions, infos, \u001B[32m100\u001B[39m, prune=\u001B[38;5;28;01mTrue\u001B[39;00m, max_per_state=\u001B[32m3\u001B[39m)\n\u001B[32m      8\u001B[39m infoss.append(infos)\n\u001B[32m----> \u001B[39m\u001B[32m9\u001B[39m \u001B[38;5;28;01mwith\u001B[39;00m \u001B[38;5;28;43mopen\u001B[39;49m\u001B[43m(\u001B[49m\u001B[33;43m'\u001B[39;49m\u001B[33;43mlogs/crosswords/infoss_dfs_prune.json\u001B[39;49m\u001B[33;43m'\u001B[39;49m\u001B[43m,\u001B[49m\u001B[43m \u001B[49m\u001B[33;43m'\u001B[39;49m\u001B[33;43mw\u001B[39;49m\u001B[33;43m'\u001B[39;49m\u001B[43m)\u001B[49m \u001B[38;5;28;01mas\u001B[39;00m fout:\n\u001B[32m     10\u001B[39m     json.dump(infoss, fout)\n",
      "\u001B[36mFile \u001B[39m\u001B[32m~/developer/algoverse/alan_jaks/JAKS/tree-of-thought-llm/env/lib/python3.11/site-packages/IPython/core/interactiveshell.py:343\u001B[39m, in \u001B[36m_modified_open\u001B[39m\u001B[34m(file, *args, **kwargs)\u001B[39m\n\u001B[32m    336\u001B[39m \u001B[38;5;28;01mif\u001B[39;00m file \u001B[38;5;129;01min\u001B[39;00m {\u001B[32m0\u001B[39m, \u001B[32m1\u001B[39m, \u001B[32m2\u001B[39m}:\n\u001B[32m    337\u001B[39m     \u001B[38;5;28;01mraise\u001B[39;00m \u001B[38;5;167;01mValueError\u001B[39;00m(\n\u001B[32m    338\u001B[39m         \u001B[33mf\u001B[39m\u001B[33m\"\u001B[39m\u001B[33mIPython won\u001B[39m\u001B[33m'\u001B[39m\u001B[33mt let you open fd=\u001B[39m\u001B[38;5;132;01m{\u001B[39;00mfile\u001B[38;5;132;01m}\u001B[39;00m\u001B[33m by default \u001B[39m\u001B[33m\"\u001B[39m\n\u001B[32m    339\u001B[39m         \u001B[33m\"\u001B[39m\u001B[33mas it is likely to crash IPython. If you know what you are doing, \u001B[39m\u001B[33m\"\u001B[39m\n\u001B[32m    340\u001B[39m         \u001B[33m\"\u001B[39m\u001B[33myou can use builtins\u001B[39m\u001B[33m'\u001B[39m\u001B[33m open.\u001B[39m\u001B[33m\"\u001B[39m\n\u001B[32m    341\u001B[39m     )\n\u001B[32m--> \u001B[39m\u001B[32m343\u001B[39m \u001B[38;5;28;01mreturn\u001B[39;00m \u001B[43mio_open\u001B[49m\u001B[43m(\u001B[49m\u001B[43mfile\u001B[49m\u001B[43m,\u001B[49m\u001B[43m \u001B[49m\u001B[43m*\u001B[49m\u001B[43margs\u001B[49m\u001B[43m,\u001B[49m\u001B[43m \u001B[49m\u001B[43m*\u001B[49m\u001B[43m*\u001B[49m\u001B[43mkwargs\u001B[49m\u001B[43m)\u001B[49m\n",
      "\u001B[31mFileNotFoundError\u001B[39m: [Errno 2] No such file or directory: 'logs/crosswords/infoss_dfs_prune.json'"
     ]
    }
   ],
   "execution_count": 7
  },
  {
   "cell_type": "code",
   "metadata": {},
   "source": [
    "# dfs without pruning\n",
    "infoss = []\n",
    "for i in range(0, 100, 5):\n",
    "    env.reset(i)\n",
    "    infos = []\n",
    "    actions = []\n",
    "    dfs(env, actions, infos, 100, prune=False, max_per_state=3)\n",
    "    infoss.append(infos)\n",
    "    with open('logs/crosswords/infoss_dfs_no_prune.json', 'w') as fout:\n",
    "        json.dump(infoss, fout)"
   ],
   "outputs": [],
   "execution_count": null
  },
  {
   "metadata": {},
   "cell_type": "code",
   "source": "",
   "outputs": [],
   "execution_count": null
  },
  {
   "metadata": {},
   "cell_type": "code",
   "source": "",
   "outputs": [],
   "execution_count": null
  },
  {
   "metadata": {},
   "cell_type": "code",
   "source": "",
   "outputs": [],
   "execution_count": null
  },
  {
   "metadata": {},
   "cell_type": "code",
   "source": "",
   "outputs": [],
   "execution_count": null
  }
 ],
 "metadata": {
  "kernelspec": {
   "display_name": "Python 3",
   "language": "python",
   "name": "python3"
  },
  "language_info": {
   "codemirror_mode": {
    "name": "ipython",
    "version": 3
   },
   "file_extension": ".py",
   "mimetype": "text/x-python",
   "name": "python",
   "nbconvert_exporter": "python",
   "pygments_lexer": "ipython3",
   "version": "3.7.4"
  }
 },
 "nbformat": 4,
 "nbformat_minor": 2
}
